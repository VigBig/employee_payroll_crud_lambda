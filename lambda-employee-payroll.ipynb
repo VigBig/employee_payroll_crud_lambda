{
 "cells": [
  {
   "cell_type": "code",
   "execution_count": null,
   "metadata": {},
   "outputs": [],
   "source": [
    "'''\n",
    "\n",
    "@Author: Vighnesh Harish Bilgi\n",
    "@Date: 2022-11-09\n",
    "@Last Modified by: Vighnesh Harish Bilgi\n",
    "@Last Modified time: 2022-11-09\n",
    "@Title : Employee Payroll CRUD operations - AWS Lambda\n",
    "\n",
    "'''"
   ]
  },
  {
   "cell_type": "markdown",
   "metadata": {},
   "source": [
    "### Employee Payroll CRUD operations - AWS Lambda"
   ]
  },
  {
   "cell_type": "code",
   "execution_count": null,
   "metadata": {},
   "outputs": [],
   "source": [
    "# Initializing empty global dictionary variable\n",
    "employee = {}\n",
    "\n",
    "def insert_items(event):\n",
    "    \n",
    "    res = {k: event[k] for k in event.keys() - {'operation', 'EMPID'}}\n",
    "    employee[event['EMPID']] = res\n",
    "\n",
    "    return {\n",
    "        'statuscode': employee,\n",
    "        'body': 'Record'+\" \" + event['EMPID'] +\" \" + 'Added'}\n",
    "\n",
    "def read_items():\n",
    "    \n",
    "    for emp_id in employee:\n",
    "        print(emp_id,\"\\n\")\n",
    "        for emp_details in employee[emp_id]:\n",
    "            print(emp_details,\" : \",employee[emp_id][emp_details])\n",
    "        print(\"\\n\")\n",
    "\n",
    "    if employee!={}:\n",
    "        return employee\n",
    "    else:\n",
    "        return {\n",
    "                'statuscode': 400,\n",
    "                'body': 'No Records Found'\n",
    "                }\n",
    "            \n",
    "\n",
    "def update_items(event):\n",
    "    \n",
    "    res = {k: event[k] for k in event.keys() - {'operation', 'EMPID'}}\n",
    "    employee[event['EMPID']] = res\n",
    "\n",
    "    return {\n",
    "        'statuscode': employee,\n",
    "        'body': 'Record'+\" \" + event['EMPID'] +\" \" + 'Added'}\n",
    "        \n",
    "def delete_items(event):\n",
    "    \n",
    "    del employee[event['EMPID']]\n",
    "\n",
    "    \n",
    "def lambda_handler(event, context):\n",
    "\n",
    "    # if event:\n",
    "        # 1. C: CREATE\n",
    "    if event['operation']==\"insert\":\n",
    "        result = insert_items(event)\n",
    "        print(\"Printing all items inserted\")\n",
    "        read_items()\n",
    "     # 2. R: READ    \n",
    "    if event['operation']==\"read\":\n",
    "        print(\"Printing all employee records\")\n",
    "        result = read_items()\n",
    "     # 3. U: UPDATE    \n",
    "    if event['operation']==\"update\":\n",
    "        result = update_items(event)\n",
    "        print(\"Printing all employees with updated details:\")\n",
    "        read_items()\n",
    "    # 3. D: DELETE  \n",
    "    if event['operation']==\"delete\":\n",
    "        result = delete_items(event)\n",
    "        print(\"Printing all items inserted after deletion\")\n",
    "        read_items()    \n",
    "            \n",
    "    # else :      \n",
    "    \n",
    "    #     return {\n",
    "    #         'statusCode': '404',\n",
    "    #         'body': 'Not found any data'\n",
    "    #     }\n",
    "\n",
    "if __name__ == \"__main__\":\n",
    "    lambda_handler(event, context)"
   ]
  }
 ],
 "metadata": {
  "kernelspec": {
   "display_name": "Python 3.8.10 64-bit",
   "language": "python",
   "name": "python3"
  },
  "language_info": {
   "codemirror_mode": {
    "name": "ipython",
    "version": 3
   },
   "file_extension": ".py",
   "mimetype": "text/x-python",
   "name": "python",
   "nbconvert_exporter": "python",
   "pygments_lexer": "ipython3",
   "version": "3.8.10"
  },
  "orig_nbformat": 4,
  "vscode": {
   "interpreter": {
    "hash": "916dbcbb3f70747c44a77c7bcd40155683ae19c65e1c03b4aa3499c5328201f1"
   }
  }
 },
 "nbformat": 4,
 "nbformat_minor": 2
}
